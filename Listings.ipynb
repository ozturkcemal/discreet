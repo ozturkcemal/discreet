{
 "cells": [
  {
   "cell_type": "markdown",
   "id": "e1c660fe-ce36-4828-8e8c-f1f4d9c77e3e",
   "metadata": {},
   "source": [
    "# What is the Best Way to Do Something? <br> A Discreet Tour of Discrete Optimization\n",
    "\n",
    "Author: **Thiago Serra**\n",
    "\n",
    "Last Update: September 7, 2025\n",
    "\n",
    "This notebook contains all the listings of the article under [an MIT license](https://github.com/thserra/discreet/blob/main/LICENSE).\n",
    "\n",
    "And here is [the CSV data](https://github.com/thserra/discreet/blob/main/1000-cities.csv). That data was originally obtained from what is now [this broken link](https://public.opendatasoft.com/explore/dataset/1000-largest-us-cities-by-population-with-geographic-coordinates/table/?sort=-rank)."
   ]
  },
  {
   "cell_type": "markdown",
   "id": "7f4a7e41-21e1-4890-a171-55d83fb2528d",
   "metadata": {},
   "source": [
    "## Section 4: Using a Mathematical Optimization Solver"
   ]
  },
  {
   "cell_type": "markdown",
   "id": "662d1ea5-5759-4bb3-9036-0e3642ce2a23",
   "metadata": {},
   "source": [
    "### Apple and Orange Model 1"
   ]
  },
  {
   "cell_type": "code",
   "execution_count": null,
   "id": "d6cce110-5d4d-43d1-9e67-292a51a01341",
   "metadata": {},
   "outputs": [],
   "source": [
    "import gurobipy as gb\n",
    "\n",
    "ao_model = gb.Model()\n",
    "\n",
    "a = ao_model.addVar(vtype = gb.GRB.INTEGER)\n",
    "o = ao_model.addVar(vtype = gb.GRB.INTEGER)\n",
    "\n",
    "ao_model.setObjective(0.49*a + 0.50*o, gb.GRB.MINIMIZE)\n",
    "\n",
    "ao_model.addConstr(214*a + 232*o >= 235)\n",
    "\n",
    "ao_model.optimize()\n",
    "\n",
    "print(ao_model.objVal)\n",
    "print(a.X)\n",
    "print(o.X)"
   ]
  },
  {
   "cell_type": "markdown",
   "id": "9fecb515-006d-4456-8ad0-d7eb8cf50957",
   "metadata": {},
   "source": [
    "### Apple and Orange Model 2"
   ]
  },
  {
   "cell_type": "code",
   "execution_count": null,
   "id": "b8930f77-674d-4419-a98c-0857c89fbd7e",
   "metadata": {},
   "outputs": [],
   "source": [
    "import gurobipy as gb\n",
    "\n",
    "fruit_price = [0.49, 0.50]\n",
    "fruit_potassium = [214, 232]\n",
    "potassium_need = 235\n",
    "\n",
    "ao_model2 = gb.Model()\n",
    "\n",
    "fruit = ao_model2.addVars(2, obj = fruit_price, \n",
    "                          vtype = gb.GRB.INTEGER)\n",
    "\n",
    "ao_model2.ModelSense = gb.GRB.MINIMIZE\n",
    "\n",
    "ao_model2.addConstr(\n",
    "    fruit_potassium[0]*fruit[0] \n",
    "    + fruit_potassium[1]*fruit[1] \n",
    "        >= potassium_need)\n",
    "\n",
    "ao_model2.optimize()\n",
    "\n",
    "print(ao_model2.objVal)\n",
    "print(fruit[0].X)\n",
    "print(fruit[1].X)\n"
   ]
  },
  {
   "cell_type": "markdown",
   "id": "13cab294-ed29-459a-a780-dd6d4fa647cf",
   "metadata": {},
   "source": [
    "### Fruit Model"
   ]
  },
  {
   "cell_type": "code",
   "execution_count": null,
   "id": "722a1bf9-d82e-469c-b37c-dbd761c30709",
   "metadata": {},
   "outputs": [],
   "source": [
    "import gurobipy as gb\n",
    "\n",
    "fruit_price = [0.49, 0.50, 0.51, 0.52]\n",
    "fruit_potassium = [214, 232, 375, 155]\n",
    "fruit_calcium = [12, 60.2, 5.75, 14.2]\n",
    "fruit_fiber = [4.8, 2.8, 5.31, 5.52]\n",
    "nutrient_need = [235, 65, 5.6]\n",
    "\n",
    "fruit_model = gb.Model()\n",
    "\n",
    "fruit = fruit_model.addVars(4, obj = fruit_price, ub = 10,\n",
    "                            vtype = gb.GRB.INTEGER)\n",
    "\n",
    "fruit_model.ModelSense = gb.GRB.MINIMIZE\n",
    "\n",
    "fruit_model.addConstr(\n",
    "    fruit_potassium[0]*fruit[0] \n",
    "    + fruit_potassium[1]*fruit[1] \n",
    "    + fruit_potassium[2]*fruit[2]\n",
    "    + fruit_potassium[3]*fruit[3]\n",
    "        >= nutrient_need[0])\n",
    "\n",
    "fruit_model.addConstr(\n",
    "    gb.quicksum(\n",
    "        fruit_calcium[i]*fruit[i]\n",
    "        for i in range(4))\n",
    "        >= nutrient_need[1])\n",
    "\n",
    "fruit_model.optimize()\n",
    "\n",
    "print(fruit_model.objVal)\n",
    "for i in range(4):\n",
    "    print(fruit[i].X)"
   ]
  },
  {
   "cell_type": "markdown",
   "id": "154a71f4-5b40-4080-bccb-cc5e8ddf140d",
   "metadata": {},
   "source": [
    "## Section 5: Assignment Problems and Graphs"
   ]
  },
  {
   "cell_type": "markdown",
   "id": "0d9099d0-a697-4119-a10f-e5af3e9b4ce9",
   "metadata": {},
   "source": [
    "### One-Way Assignment Model"
   ]
  },
  {
   "cell_type": "code",
   "execution_count": null,
   "id": "96db3478-f59b-4f67-b3da-a7f191f17063",
   "metadata": {},
   "outputs": [],
   "source": [
    "import gurobipy as gb\n",
    "\n",
    "cities = ['New York-NY', 'Los Angeles-CA', 'Chicago-IL']\n",
    "\n",
    "coordinates = {'New York-NY': (-74.0059413, 40.7127837),\n",
    " 'Los Angeles-CA': (-118.2436849, 34.0522342),\n",
    " 'Chicago-IL': (-87.6297982, 41.8781136)}\n",
    "\n",
    "pairs = [('New York-NY', 'Los Angeles-CA'),\n",
    " ('New York-NY', 'Chicago-IL'),\n",
    " ('Los Angeles-CA', 'New York-NY'),\n",
    " ('Los Angeles-CA', 'Chicago-IL'),\n",
    " ('Chicago-IL', 'New York-NY'),\n",
    " ('Chicago-IL', 'Los Angeles-CA')]\n",
    "\n",
    "owap_model = gb.Model()\n",
    "\n",
    "x = owap_model.addVars(pairs, vtype = gb.GRB.BINARY)\n",
    "\n",
    "owap_model.setObjective(\n",
    "    2789.8*x[('New York-NY', 'Los Angeles-CA')]\n",
    "    + 852.7*x[('New York-NY', 'Chicago-IL')]\n",
    "    + 2789.8*x[('Los Angeles-CA', 'New York-NY')]\n",
    "    + 1970.5*x[('Los Angeles-CA', 'Chicago-IL')]\n",
    "    + 852.7*x[('Chicago-IL', 'New York-NY')]\n",
    "    + 1970.5*x[('Chicago-IL', 'Los Angeles-CA')],\n",
    "    gb.GRB.MINIMIZE\n",
    ")\n",
    "\n",
    "owap_model.addConstr( x[('New York-NY', 'Los Angeles-CA')]\n",
    "                  + x[('New York-NY', 'Chicago-IL')] == 1)\n",
    "owap_model.addConstr( x[('Los Angeles-CA', 'New York-NY')]\n",
    "                  + x[('Los Angeles-CA', 'Chicago-IL')] == 1)\n",
    "owap_model.addConstr( x[('Chicago-IL', 'New York-NY')]\n",
    "                  + x[('Chicago-IL', 'Los Angeles-CA')] == 1)\n",
    "\n",
    "owap_model.optimize()"
   ]
  },
  {
   "cell_type": "markdown",
   "id": "00757085-412c-4a73-94b3-42a26692ecdd",
   "metadata": {},
   "source": [
    "### Two-Way Assignment Model\n",
    "<a id='twap'></a>\n",
    "\n",
    "Before runing the code in the listing below, you should run the code in listing [Appendix Code 1](#appendix_code_1)."
   ]
  },
  {
   "cell_type": "code",
   "execution_count": null,
   "id": "f97f8f0f-71ad-453c-8fc6-baec20f0106c",
   "metadata": {},
   "outputs": [],
   "source": [
    "import gurobipy as gb\n",
    "\n",
    "cities, coordinates, distance = read_problem(\"1000-cities.csv\", 5)\n",
    "\n",
    "twap_model = gb.Model()\n",
    "\n",
    "x = twap_model.addVars(distance, obj = distance, \n",
    "\t\t           vtype = gb.GRB.BINARY)\n",
    "\n",
    "for i in cities:\n",
    "    twap_model.addConstr(\n",
    "        gb.quicksum(\n",
    "            x[i,j] for j in cities \n",
    "                   if j!=i)\n",
    "        == 1)\n",
    "\n",
    "for j in cities:\n",
    "    twap_model.addConstr(\n",
    "        gb.quicksum(\n",
    "            x[i,j] for i in cities \n",
    "                   if j!=i)\n",
    "        == 1)\n",
    "\n",
    "twap_model.optimize()\n",
    "visualize_solution(x, coordinates, distance)"
   ]
  },
  {
   "cell_type": "markdown",
   "id": "b82d12d6-7210-4e55-9b9d-0792a2ae8e07",
   "metadata": {},
   "source": [
    "## Section 6: The Traveling Salesperson Problem"
   ]
  },
  {
   "cell_type": "markdown",
   "id": "b3326a9c-4221-4920-9895-4e7e7722acfc",
   "metadata": {},
   "source": [
    "### TSP Model\n",
    "\n",
    "Before runing the code in the listing below, you should run the code in listing [Appendix Code 1](#appendix_code_1)."
   ]
  },
  {
   "cell_type": "code",
   "execution_count": null,
   "id": "be7d91c1-f681-4999-aff2-0a0769094f08",
   "metadata": {},
   "outputs": [],
   "source": [
    "import gurobipy as gb\n",
    "import time \n",
    "\n",
    "cities, coordinates, distance = read_problem(\"1000-cities.csv\", 5)\n",
    "\n",
    "tsp_model = gb.Model()\n",
    "\n",
    "x = tsp_model.addVars(distance, obj = distance, \n",
    "\t\t           vtype = gb.GRB.BINARY)\n",
    "\n",
    "for i in cities:\n",
    "    tsp_model.addConstr(\n",
    "        gb.quicksum(\n",
    "            x[i,j] for j in cities \n",
    "                   if j!=i)\n",
    "        == 1)\n",
    "\n",
    "for j in cities:\n",
    "    tsp_model.addConstr(\n",
    "        gb.quicksum(\n",
    "            x[i,j] for i in cities \n",
    "                   if j!=i)\n",
    "        == 1)\n",
    "\n",
    "tsp_model.addConstrs(\n",
    "    gb.quicksum( \n",
    "        x[i,j]\n",
    "        for i in subtour\n",
    "        for j in cities if j not in subtour) \n",
    "    >= 1\n",
    "    for subtour in subtours(cities)\n",
    ")\n",
    "\n",
    "start_time = time.time()\n",
    "tsp_model.optimize()\n",
    "end_time = time.time()\n",
    "visualize_solution(x, coordinates, distance)\n",
    "print(\"Duration:\", end_time - start_time)"
   ]
  },
  {
   "cell_type": "markdown",
   "id": "5638f605-edc5-4df0-ab0b-051ab8d54548",
   "metadata": {},
   "source": [
    "## Section 8: Using Solver Callbacks"
   ]
  },
  {
   "cell_type": "markdown",
   "id": "ea4f9f80-59c2-4559-abbb-467cff22931b",
   "metadata": {},
   "source": [
    "### Using Lazy Constraints\n",
    "\n",
    "The code below is a replacement for the last two lines of [Two-Way Assignment Model](#twap), where the model should be renamed from *twap_model* to *tsp_callback_model*. You should run the code in [Appendix Code 1](#appendix_code_1) and [TSP Callback Function](#callback) before running trying to solve *tsp_callback_model*."
   ]
  },
  {
   "cell_type": "code",
   "execution_count": null,
   "id": "f01ee04b-2522-41ee-b124-31946b626b12",
   "metadata": {},
   "outputs": [],
   "source": [
    "start_time = time.time()\n",
    "tsp_callback_model.params.LazyConstraints = 1 \n",
    "tsp_callback_model.optimize(callback_function)\n",
    "end_time = time.time()\n",
    "visualize_solution(x, coordinates, pairs, distance)\n",
    "print(\"Duration:\", end_time - start_time)"
   ]
  },
  {
   "cell_type": "markdown",
   "id": "bb18a660-cd75-4452-bd46-376f93439654",
   "metadata": {},
   "source": [
    "The code below reflects the modifications described above (not in the article for brevity). You should run the code in [Appendix Code 1](#appendix_code_1) and [TSP Callback Function](#callback) before it. "
   ]
  },
  {
   "cell_type": "code",
   "execution_count": null,
   "id": "6235c259-144f-4a7e-b349-c561235011b3",
   "metadata": {},
   "outputs": [],
   "source": [
    "import gurobipy as gb\n",
    "\n",
    "cities, coordinates, distance = read_problem(\"1000-cities.csv\", 5)\n",
    "\n",
    "tsp_callback_model = gb.Model()\n",
    "\n",
    "x = tsp_callback_model.addVars(distance, obj = distance, \n",
    "\t\t           vtype = gb.GRB.BINARY)\n",
    "\n",
    "for i in cities:\n",
    "    tsp_callback_model.addConstr(\n",
    "        gb.quicksum(\n",
    "            x[i,j] for j in cities \n",
    "                   if j!=i)\n",
    "        == 1)\n",
    "\n",
    "for j in cities:\n",
    "    tsp_callback_model.addConstr(\n",
    "        gb.quicksum(\n",
    "            x[i,j] for i in cities \n",
    "                   if j!=i)\n",
    "        == 1)\n",
    "\n",
    "start_time = time.time()\n",
    "tsp_callback_model.params.LazyConstraints = 1 \n",
    "tsp_callback_model.optimize(callback_function)\n",
    "end_time = time.time()\n",
    "visualize_solution(x, coordinates, distance)\n",
    "print(\"Duration:\", end_time - start_time)"
   ]
  },
  {
   "cell_type": "markdown",
   "id": "52e31132-c980-4d76-9f07-354df61fa8f5",
   "metadata": {},
   "source": [
    "### TSP Callback Function\n",
    "<a id='callback'></a>"
   ]
  },
  {
   "cell_type": "code",
   "execution_count": null,
   "id": "00474a28-efb5-494c-a5ef-50bea2d199a7",
   "metadata": {},
   "outputs": [],
   "source": [
    "def callback_function(model, where):\n",
    "    global x\n",
    "    global cities\n",
    "    global distance\n",
    "    if where == gb.GRB.Callback.MIPSOL:\n",
    "        current_x = model.cbGetSolution(x)\n",
    "        next = cities[0]\n",
    "        tour = []\n",
    "        while True:\n",
    "            tour.append(next)\n",
    "            for (i,j) in distance:\n",
    "                if i == next and current_x[i,j] > 0.99:\n",
    "                    next = j\n",
    "                    break\n",
    "            if next == cities[0]:\n",
    "                break\n",
    "        if len(tour) < len(cities):\n",
    "            print(tour)\n",
    "            model.cbLazy(\n",
    "                gb.quicksum( x[i,j]\n",
    "                     for i in tour\n",
    "                     for j in cities if j not in tour\n",
    "                   ) >= 1\n",
    "            )"
   ]
  },
  {
   "cell_type": "markdown",
   "id": "fc7b66de-ba85-4ee0-99b9-ff956a3bfa7c",
   "metadata": {},
   "source": [
    "## Section 9: Designing Your Own (Heuristic) Algorithms"
   ]
  },
  {
   "cell_type": "markdown",
   "id": "6641c2df-9a7b-4f76-b504-2e2ff6f4f476",
   "metadata": {},
   "source": [
    "### Greedy TSP Heuristic\n",
    "\n",
    "Before runing the code in the listing below, you should run the code in [Appendix Code 1](#appendix_code_1) and [Appendix Code 2](#appendix_code_2). "
   ]
  },
  {
   "cell_type": "code",
   "execution_count": null,
   "id": "210204bd-96fc-4017-938e-07da6ecaccca",
   "metadata": {},
   "outputs": [],
   "source": [
    "cities, coordinates, distance = read_problem(\"1000-cities.csv\", 1000)\n",
    "\n",
    "first_city = cities[0]\n",
    "solution = [ first_city ] \n",
    "cities_left = [ c for c in cities if c != first_city ]\n",
    "while len(cities_left) > 0: \n",
    "    current_city = solution[-1] \n",
    "    cities_left.sort(key=lambda c : distance[current_city,c]) \n",
    "    next_city = cities_left[0] \n",
    "    solution.append(next_city) \n",
    "    cities_left.remove(next_city) \n",
    "solution_value = total_distance(distance, solution)\n",
    "    \n",
    "print(solution_value, solution) \n",
    "show(coordinates, solution) "
   ]
  },
  {
   "cell_type": "markdown",
   "id": "bdc84f64-a659-4ebe-bd5d-6ec08e6cdc64",
   "metadata": {},
   "source": [
    "## Appendix"
   ]
  },
  {
   "cell_type": "markdown",
   "id": "2f07ca09-5c99-4634-bb6a-602bfb692dd9",
   "metadata": {},
   "source": [
    "### Supporting Functions for Listings in Sections 6, 8, and 9"
   ]
  },
  {
   "cell_type": "markdown",
   "id": "c418dd8d-33a9-495b-b510-d8ea7f313bc5",
   "metadata": {},
   "source": [
    "#### Appendix Code 1\n",
    "\n",
    "<a id='appendix_code_1'></a>"
   ]
  },
  {
   "cell_type": "code",
   "execution_count": null,
   "id": "9e797077-a202-4573-8d9e-de4c3f9d52c4",
   "metadata": {},
   "outputs": [],
   "source": [
    "import math\n",
    "import matplotlib.pyplot as plt\n",
    "import networkx as nx\n",
    "import warnings\n",
    "\n",
    "from itertools import chain, combinations\n",
    "    \n",
    "def __distance_between_cities(coordinates: dict, A, B):\n",
    "    (latA,lonA) = coordinates[A]\n",
    "    (latB,lonB) = coordinates[B]\n",
    "    return 62.36*math.sqrt(\n",
    "\t(latA-latB)*(latA-latB) + (lonA-lonB)*(lonA-lonB))\n",
    "\n",
    "def read_problem(file_name: str, size: int):\n",
    "    f = open(file_name) \n",
    "    cities = []\n",
    "    coordinates = {}\n",
    "    distances = {}\n",
    "    for i in range(size): # Loop for reading each city\n",
    "        line = f.readline()\n",
    "        tokens = line.split(\",\")\n",
    "        city_name = tokens[1]\n",
    "        city_coord = (float(tokens[2]), float(tokens[3]))\n",
    "        cities.append(city_name)\n",
    "        coordinates[city_name] = city_coord\n",
    "    for i in cities:\n",
    "        for j in cities:\n",
    "            distances[(i,j)] = __distance_between_cities(coordinates, i, j)\n",
    "    return cities, coordinates, distances\n",
    "\n",
    "def visualize_solution(x, coordinates, distances):\n",
    "    warnings.filterwarnings(\"ignore\", category=UserWarning)\n",
    "    G = nx.DiGraph()\n",
    "    for city in coordinates: \n",
    "        G.add_node(city)\n",
    "    for (i,j) in distances:\n",
    "        if x[i,j].X > 0.99:\n",
    "            G.add_edge(i,j)\n",
    "            print(i, \"->\", j)\n",
    "    nx.draw(G, pos=coordinates, with_labels=True, \n",
    "\t\tfont_weight='bold', edge_color=\"red\", width=3)\n",
    "    plt.margins(x=0.1)\n",
    "    plt.show()\n",
    "\n",
    "def subtours(cities):\n",
    "    min_size = 2\n",
    "    max_size = len(cities) // 2\n",
    "    return chain.from_iterable(combinations(cities, r) for r in range(min_size, max_size+1))"
   ]
  },
  {
   "cell_type": "markdown",
   "id": "d31525f7-9bf9-4bd5-ac6e-2e9f81a6f77f",
   "metadata": {},
   "source": [
    "### Supporting Data for Models"
   ]
  },
  {
   "cell_type": "markdown",
   "id": "5726bf12-8972-4849-a8db-9fe2c7469769",
   "metadata": {},
   "source": [
    "#### Appendix TSP Data\n",
    "\n",
    "These are the first 20 lines of the file [1000-cities.csv](1000-cities.csv). The data in that file was originally obtained from what is now [this broken link](https://public.opendatasoft.com/explore/dataset/1000-largest-us-cities-by-population-with-geographic-coordinates/table/?sort=-rank)."
   ]
  },
  {
   "cell_type": "raw",
   "id": "2636eb76-40a2-41e5-9c1b-e30a2e300cd6",
   "metadata": {},
   "source": [
    "1,New York-NY,-74.0059413,40.7127837\n",
    "2,Los Angeles-CA,-118.2436849,34.0522342\n",
    "3,Chicago-IL,-87.6297982,41.8781136\n",
    "4,Houston-TX,-95.3698028,29.7604267\n",
    "5,Philadelphia-PA,-75.1652215,39.9525839\n",
    "6,Phoenix-AZ,-112.0740373,33.4483771\n",
    "7,San Antonio-TX,-98.4936282,29.4241219\n",
    "8,San Diego-CA,-117.1610838,32.715738\n",
    "9,Dallas-TX,-96.7969879,32.7766642\n",
    "10,San Jose-CA,-121.8863286,37.3382082\n",
    "11,Austin-TX,-97.7430608,30.267153\n",
    "12,Indianapolis-IN,-86.158068,39.768403\n",
    "13,Jacksonville-FL,-81.655651,30.3321838\n",
    "14,San Francisco-CA,-122.4194155,37.7749295\n",
    "15,Columbus-OH,-82.9987942,39.9611755\n",
    "16,Charlotte-NC,-80.8431267,35.2270869\n",
    "17,Fort Worth-TX,-97.3307658,32.7554883\n",
    "18,Detroit-MI,-83.0457538,42.331427\n",
    "19,El Paso-TX,-106.4424559,31.7775757\n",
    "20,Memphis-TN,-90.0489801,35.1495343"
   ]
  },
  {
   "cell_type": "markdown",
   "id": "de5ad6a9-f80a-4890-a7b4-1955a34a337c",
   "metadata": {},
   "source": [
    "### Additional Supporting Functions for Listing in Section 9"
   ]
  },
  {
   "cell_type": "markdown",
   "id": "96c00c20-fe68-40aa-ac3d-c1fc5b9e9723",
   "metadata": {},
   "source": [
    "#### Appendix Code 2\n",
    "\n",
    "<a id='appendix_code_2'></a>"
   ]
  },
  {
   "cell_type": "code",
   "execution_count": null,
   "id": "69ddcd46-f39b-4f93-8c4e-96e1d2fd558e",
   "metadata": {},
   "outputs": [],
   "source": [
    "def total_distance(distance, solution): \n",
    "    t_distance = 0\n",
    "    N = len(solution)\n",
    "    for i in range(N-1): \n",
    "        t_distance += distance[solution[i],solution[i+1]]\n",
    "    t_distance += distance[solution[N-1],solution[0]] \n",
    "    return t_distance\n",
    "\n",
    "def show(coordinates, solution): \n",
    "    G = nx.DiGraph()\n",
    "    for city in cities: \n",
    "        G.add_node(city)\n",
    "    N = len(solution)\n",
    "    for i in range(N-1): \n",
    "        G.add_edge(solution[i],solution[i+1])\n",
    "    G.add_edge(solution[N-1],solution[0]) \n",
    "    nx.draw(G, pos=coordinates, with_labels=True, font_weight='bold', edge_color=\"red\", width=3)\n",
    "    plt.margins(x=0.1)\n",
    "    plt.show()"
   ]
  }
 ],
 "metadata": {
  "kernelspec": {
   "display_name": "Python 3 (ipykernel)",
   "language": "python",
   "name": "python3"
  },
  "language_info": {
   "codemirror_mode": {
    "name": "ipython",
    "version": 3
   },
   "file_extension": ".py",
   "mimetype": "text/x-python",
   "name": "python",
   "nbconvert_exporter": "python",
   "pygments_lexer": "ipython3",
   "version": "3.12.4"
  }
 },
 "nbformat": 4,
 "nbformat_minor": 5
}
